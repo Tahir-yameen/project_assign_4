{
  "nbformat": 4,
  "nbformat_minor": 0,
  "metadata": {
    "colab": {
      "provenance": [],
      "authorship_tag": "ABX9TyO1jRJRz0s7xO+df9YwB1b2",
      "include_colab_link": true
    },
    "kernelspec": {
      "name": "python3",
      "display_name": "Python 3"
    },
    "language_info": {
      "name": "python"
    }
  },
  "cells": [
    {
      "cell_type": "markdown",
      "metadata": {
        "id": "view-in-github",
        "colab_type": "text"
      },
      "source": [
        "<a href=\"https://colab.research.google.com/github/Tahir-yameen/project_assign_4/blob/main/06_functions.ipynb\" target=\"_parent\"><img src=\"https://colab.research.google.com/assets/colab-badge.svg\" alt=\"Open In Colab\"/></a>"
      ]
    },
    {
      "cell_type": "code",
      "execution_count": 2,
      "metadata": {
        "colab": {
          "base_uri": "https://localhost:8080/"
        },
        "id": "qpndkUyMRA6h",
        "outputId": "c92ce94c-cef0-416e-8d34-e6d7341f241a"
      },
      "outputs": [
        {
          "output_type": "stream",
          "name": "stdout",
          "text": [
            "00_averages\n",
            "\n",
            "Enter the first number: 2\n",
            "Enter the second number: 45\n",
            "The average of 2.0 and 45.0 is 23.5\n"
          ]
        }
      ],
      "source": [
        "print(\"00_averages\")\n",
        "\n",
        "def find_average(a, b):\n",
        "    return (a + b) / 2\n",
        "\n",
        "def main():\n",
        "\n",
        "    num1 = float(input(\"\\nEnter the first number: \"))\n",
        "    num2 = float(input(\"Enter the second number: \"))\n",
        "\n",
        "    average = find_average(num1, num2)\n",
        "    print(f\"The average of {num1} and {num2} is {average}\")\n",
        "\n",
        "if __name__ == '__main__':\n",
        "    main()\n"
      ]
    },
    {
      "cell_type": "code",
      "source": [
        "print(\"01_chaotic_counting\")\n",
        "\n",
        "import random\n",
        "\n",
        "# Simulate a done() function with a configurable likelihood\n",
        "DONE_LIKELIHOOD = 0.5  # 50% chance to return True\n",
        "\n",
        "def done():\n",
        "    return random.random() < DONE_LIKELIHOOD\n",
        "\n",
        "def chaotic_counting():\n",
        "    for i in range(1, 11):\n",
        "        if done():\n",
        "            return\n",
        "        print(i)\n",
        "\n",
        "def main():\n",
        "    chaotic_counting()\n",
        "    print(\"I'm done.\")\n",
        "\n",
        "if __name__ == '__main__':\n",
        "    main()\n"
      ],
      "metadata": {
        "colab": {
          "base_uri": "https://localhost:8080/"
        },
        "id": "PiIP7bq7ESEw",
        "outputId": "df004d86-f1a0-421d-d0e3-2c7689af0ab0"
      },
      "execution_count": 12,
      "outputs": [
        {
          "output_type": "stream",
          "name": "stdout",
          "text": [
            "01_chaotic_counting\n",
            "1\n",
            "2\n",
            "3\n",
            "4\n",
            "I'm done.\n"
          ]
        }
      ]
    },
    {
      "cell_type": "code",
      "source": [
        "print(\"02_count_even\")\n",
        "\n",
        "def count_even(lst):\n",
        "    count = 0\n",
        "    for num in lst:\n",
        "        if num % 2 == 0:\n",
        "            count += 1\n",
        "    print(f\"Number of even numbers: {count}\")\n",
        "\n",
        "def count_even(lst):\n",
        "    count = 0\n",
        "    for num in lst:\n",
        "        if num % 2 == 0:\n",
        "            count += 1\n",
        "    print(f\"Number of even numbers: {count}\")\n",
        "\n",
        "def main():\n",
        "    lst = []\n",
        "    while True:\n",
        "        user_input = input(\"\\nEnter an integer or press enter to stop: \")\n",
        "        if user_input == '':\n",
        "            break\n",
        "        try:\n",
        "            lst.append(int(user_input))\n",
        "        except ValueError:\n",
        "            print(\"Invalid input. Please enter a valid integer.\")\n",
        "    count_even(lst)\n",
        "\n",
        "if __name__ == '__main__':\n",
        "    main()\n"
      ],
      "metadata": {
        "colab": {
          "base_uri": "https://localhost:8080/"
        },
        "id": "WGA9ng47FNI8",
        "outputId": "2171cdc0-c000-41c6-ec5c-e5372ff20ea1"
      },
      "execution_count": 18,
      "outputs": [
        {
          "output_type": "stream",
          "name": "stdout",
          "text": [
            "02_count_even\n",
            "\n",
            "Enter an integer or press enter to stop: 7\n",
            "\n",
            "Enter an integer or press enter to stop: 8\n",
            "\n",
            "Enter an integer or press enter to stop: 3\n",
            "\n",
            "Enter an integer or press enter to stop: 6\n",
            "\n",
            "Enter an integer or press enter to stop: 2\n",
            "\n",
            "Enter an integer or press enter to stop: 9\n",
            "\n",
            "Enter an integer or press enter to stop: 9\n",
            "\n",
            "Enter an integer or press enter to stop: \n",
            "Number of even numbers: 3\n"
          ]
        }
      ]
    },
    {
      "cell_type": "code",
      "source": [
        "print(\"04_double\")\n",
        "\n",
        "def double(num):\n",
        "    return num * 2\n",
        "\n",
        "def main():\n",
        "    try:\n",
        "        user_input = float(input(\"\\nEnter a number to double: \"))\n",
        "        result = double(user_input)\n",
        "        print(f\"The result is: {result}\")\n",
        "    except ValueError:\n",
        "        print(\"Invalid input. Please enter a valid number.\")\n",
        "\n",
        "if __name__ == '__main__':\n",
        "    main()\n"
      ],
      "metadata": {
        "colab": {
          "base_uri": "https://localhost:8080/"
        },
        "id": "XDFrdAfjHDS6",
        "outputId": "10755f1c-da0a-49ef-af53-cd76897fd6f8"
      },
      "execution_count": 20,
      "outputs": [
        {
          "output_type": "stream",
          "name": "stdout",
          "text": [
            "04_double\n",
            "\n",
            "Enter a number to double: 55\n",
            "The result is: 110.0\n"
          ]
        }
      ]
    },
    {
      "cell_type": "code",
      "source": [
        "print(\"05_get_name\")\n",
        "\n",
        "def get_name():\n",
        "    return \"Asfahan\"\n",
        "\n",
        "def main():\n",
        "    name = get_name()\n",
        "    print(f\"\\nHowdy, {name}..!\")\n",
        "\n",
        "if __name__ == '__main__':\n",
        "    main()\n"
      ],
      "metadata": {
        "colab": {
          "base_uri": "https://localhost:8080/"
        },
        "id": "7rvHhIulH_pz",
        "outputId": "170e623b-b436-42ba-e07b-8a9bb200ce10"
      },
      "execution_count": 25,
      "outputs": [
        {
          "output_type": "stream",
          "name": "stdout",
          "text": [
            "05_get_name\n",
            "\n",
            "Howdy, Asfahan..!\n"
          ]
        }
      ]
    },
    {
      "cell_type": "code",
      "source": [
        "print(\"06_is_odd\")\n",
        "\n",
        "def print_even_odd(start, end):\n",
        "    for num in range(start, end + 1):\n",
        "        if num % 2 == 0:\n",
        "            print(f\"{num} even\", end=' ')\n",
        "        else:\n",
        "            print(f\"{num} odd\", end=' ')\n",
        "\n",
        "def main():\n",
        "    try:\n",
        "        start = int(input(\"\\nEnter the starting number: \"))\n",
        "        end = int(input(\"Enter the ending number: \"))\n",
        "        print_even_odd(start, end)\n",
        "    except ValueError:\n",
        "        print(\"Invalid input. Please enter valid integers.\")\n",
        "\n",
        "if __name__ == '__main__':\n",
        "    main()\n"
      ],
      "metadata": {
        "colab": {
          "base_uri": "https://localhost:8080/"
        },
        "id": "dkrIVWahLB_9",
        "outputId": "54995f16-c5e5-42e7-ce9a-495cd68aaa55"
      },
      "execution_count": 27,
      "outputs": [
        {
          "output_type": "stream",
          "name": "stdout",
          "text": [
            "06_is_odd\n",
            "\n",
            "Enter the starting number: 2\n",
            "Enter the ending number: 19\n",
            "2 even 3 odd 4 even 5 odd 6 even 7 odd 8 even 9 odd 10 even 11 odd 12 even 13 odd 14 even 15 odd 16 even 17 odd 18 even 19 odd "
          ]
        }
      ]
    },
    {
      "cell_type": "code",
      "source": [
        "print(\"07_print_divisor\")\n",
        "\n",
        "def print_divisors(num):\n",
        "    print(f\"Divisors of {num}:\")\n",
        "    for i in range(1, num + 1):\n",
        "        if num % i == 0:\n",
        "            print(i)\n",
        "\n",
        "def main():\n",
        "    try:\n",
        "        number = int(input(\"\\nEnter a number: \"))\n",
        "        print_divisors(number)\n",
        "    except ValueError:\n",
        "        print(\"Invalid input. Please enter a valid integer.\")\n",
        "\n",
        "if __name__ == '__main__':\n",
        "    main()\n"
      ],
      "metadata": {
        "colab": {
          "base_uri": "https://localhost:8080/"
        },
        "id": "OwrIu--tNldE",
        "outputId": "161f7c8b-a6ce-45b4-c4f7-494931c44944"
      },
      "execution_count": 29,
      "outputs": [
        {
          "output_type": "stream",
          "name": "stdout",
          "text": [
            "07_print_divisor\n",
            "\n",
            "Enter a number: 18\n",
            "Divisors of 18:\n",
            "1\n",
            "2\n",
            "3\n",
            "6\n",
            "9\n",
            "18\n"
          ]
        }
      ]
    },
    {
      "cell_type": "code",
      "source": [
        "print(\"08_print_multiple\")\n",
        "\n",
        "def print_multiple(message, repeats):\n",
        "    for _ in range(repeats):\n",
        "        print(message)\n",
        "\n",
        "def main():\n",
        "    message = input(\"\\nEnter a message to print: \")\n",
        "    try:\n",
        "        repeats = int(input(\"How many times to print it? \"))\n",
        "        print_multiple(message, repeats)\n",
        "    except ValueError:\n",
        "        print(\"Please enter a valid number for repeats.\")\n",
        "\n",
        "if __name__ == '__main__':\n",
        "    main()\n"
      ],
      "metadata": {
        "colab": {
          "base_uri": "https://localhost:8080/"
        },
        "id": "s5tYgKYcN62G",
        "outputId": "ddd43280-8f70-4a27-804d-65ed92d777b7"
      },
      "execution_count": 31,
      "outputs": [
        {
          "output_type": "stream",
          "name": "stdout",
          "text": [
            "08_print_multiple\n",
            "\n",
            "Enter a message to print: Have A Wonderful Day..!\n",
            "How many times to print it? 5\n",
            "Have A Wonderful Day..!\n",
            "Have A Wonderful Day..!\n",
            "Have A Wonderful Day..!\n",
            "Have A Wonderful Day..!\n",
            "Have A Wonderful Day..!\n"
          ]
        }
      ]
    },
    {
      "cell_type": "code",
      "source": [
        "print(\"09_sentence_generator\")\n",
        "\n",
        "def make_sentence(word, part_of_speech):\n",
        "    if part_of_speech == 0:\n",
        "        print(f\"I am excited to add this {word} to my vast collection of them!\")\n",
        "    elif part_of_speech == 1:\n",
        "        print(f\"It's so nice outside today it makes me want to {word}!\")\n",
        "    elif part_of_speech == 2:\n",
        "        print(f\"Looking out my window, the sky is big and {word}!\")\n",
        "    else:\n",
        "        print(\"Invalid part of speech!\")\n",
        "\n",
        "def main():\n",
        "    word = input(\"\\nEnter a word: \")\n",
        "    try:\n",
        "        part_of_speech = int(input(\"Enter the part of speech (0 for noun, 1 for verb, 2 for adjective): \"))\n",
        "        make_sentence(word, part_of_speech)\n",
        "    except ValueError:\n",
        "        print(\"Please enter a valid number for the part of speech.\")\n",
        "\n",
        "if __name__ == '__main__':\n",
        "    main()\n"
      ],
      "metadata": {
        "colab": {
          "base_uri": "https://localhost:8080/"
        },
        "id": "yJmcC4hAPXe2",
        "outputId": "b8378007-2481-433a-ff19-8f874eab7da0"
      },
      "execution_count": 37,
      "outputs": [
        {
          "output_type": "stream",
          "name": "stdout",
          "text": [
            "09_sentence_generator\n",
            "\n",
            "Enter a word: High\n",
            "Enter the part of speech (0 for noun, 1 for verb, 2 for adjective): 2\n",
            "Looking out my window, the sky is big and High!\n"
          ]
        }
      ]
    },
    {
      "cell_type": "code",
      "source": [
        "print(\"10_print_ones_digit\")\n",
        "\n",
        "def print_ones_digit(num):\n",
        "    ones_digit = num % 10  # Using modulo to get the ones digit\n",
        "    print(f\"The ones digit of {num} is {ones_digit}\")\n",
        "\n",
        "def main():\n",
        "    try:\n",
        "        num = int(input(\"\\nEnter an integer: \"))\n",
        "        print_ones_digit(num)\n",
        "    except ValueError:\n",
        "        print(\"Invalid input. Please enter a valid integer.\")\n",
        "\n",
        "if __name__ == '__main__':\n",
        "    main()\n"
      ],
      "metadata": {
        "colab": {
          "base_uri": "https://localhost:8080/"
        },
        "id": "WJPCCRnLS8he",
        "outputId": "fd80533a-8ce1-4335-9238-e711ea80e834"
      },
      "execution_count": 39,
      "outputs": [
        {
          "output_type": "stream",
          "name": "stdout",
          "text": [
            "10_print_ones_digit\n",
            "\n",
            "Enter an integer: 5468\n",
            "The ones digit of 5468 is 8\n"
          ]
        }
      ]
    }
  ]
}
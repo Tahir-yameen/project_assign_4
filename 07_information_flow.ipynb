{
  "nbformat": 4,
  "nbformat_minor": 0,
  "metadata": {
    "colab": {
      "provenance": [],
      "authorship_tag": "ABX9TyOrgivVcApgVUYadvb7AZTB",
      "include_colab_link": true
    },
    "kernelspec": {
      "name": "python3",
      "display_name": "Python 3"
    },
    "language_info": {
      "name": "python"
    }
  },
  "cells": [
    {
      "cell_type": "markdown",
      "metadata": {
        "id": "view-in-github",
        "colab_type": "text"
      },
      "source": [
        "<a href=\"https://colab.research.google.com/github/Tahir-yameen/project_assign_4/blob/main/07_information_flow.ipynb\" target=\"_parent\"><img src=\"https://colab.research.google.com/assets/colab-badge.svg\" alt=\"Open In Colab\"/></a>"
      ]
    },
    {
      "cell_type": "code",
      "execution_count": 1,
      "metadata": {
        "colab": {
          "base_uri": "https://localhost:8080/"
        },
        "id": "fLwfS3SoYnT8",
        "outputId": "dd08d991-e103-4f21-c589-f4554852a854"
      },
      "outputs": [
        {
          "output_type": "stream",
          "name": "stdout",
          "text": [
            "00_choosing_returns\n",
            "Enter your age: 25\n",
            "You are an adult.\n"
          ]
        }
      ],
      "source": [
        "print(\"00_choosing_returns\")\n",
        "\n",
        "# Define the legal adult age\n",
        "ADULT_AGE = 18\n",
        "\n",
        "def is_adult(age):\n",
        "    if age >= ADULT_AGE:\n",
        "        return True\n",
        "    else:\n",
        "        return False\n",
        "\n",
        "def main():\n",
        "    try:\n",
        "        age = int(input(\"Enter your age: \"))\n",
        "        if is_adult(age):\n",
        "            print(\"You are an adult.\")\n",
        "        else:\n",
        "            print(\"You are not an adult.\")\n",
        "    except ValueError:\n",
        "        print(\"Invalid input. Please enter a valid number for age.\")\n",
        "\n",
        "if __name__ == '__main__':\n",
        "    main()\n"
      ]
    },
    {
      "cell_type": "code",
      "source": [
        "print(\"01_greetings\")\n",
        "\n",
        "def greet(name):\n",
        "    print(f\"Hi, {name}! Welcome!\")\n",
        "\n",
        "def main():\n",
        "    name = input(\"Please enter your name: \")\n",
        "    greet(name)\n",
        "\n",
        "if __name__ == '__main__':\n",
        "    main()\n"
      ],
      "metadata": {
        "colab": {
          "base_uri": "https://localhost:8080/"
        },
        "id": "md4GGCIdcCcl",
        "outputId": "1d55ac79-cc11-4aa8-a654-0ef1b7217a6d"
      },
      "execution_count": 3,
      "outputs": [
        {
          "output_type": "stream",
          "name": "stdout",
          "text": [
            "01_greetings\n",
            "Please enter your name: Asfahan\n",
            "Hi, Asfahan! Welcome!\n"
          ]
        }
      ]
    },
    {
      "cell_type": "code",
      "source": [
        "print(\"02_in_range\")\n",
        "\n",
        "def in_range(n, low, high):\n",
        "    return low <= n <= high\n",
        "\n",
        "def main():\n",
        "    try:\n",
        "        n = int(input(\"\\nEnter a number to check: \"))\n",
        "        low = int(input(\"Enter the lower bound: \"))\n",
        "        high = int(input(\"Enter the upper bound: \"))\n",
        "\n",
        "        if in_range(n, low, high):\n",
        "            print(f\"{n} is between {low} and {high}, inclusive.\")\n",
        "        else:\n",
        "            print(f\"{n} is not between {low} and {high}, inclusive.\")\n",
        "    except ValueError:\n",
        "        print(\"Please enter valid integers.\")\n",
        "\n",
        "if __name__ == '__main__':\n",
        "    main()\n"
      ],
      "metadata": {
        "colab": {
          "base_uri": "https://localhost:8080/"
        },
        "id": "sTsivrocdttc",
        "outputId": "9eb8a74b-0d61-4631-bf07-c706ea004163"
      },
      "execution_count": 4,
      "outputs": [
        {
          "output_type": "stream",
          "name": "stdout",
          "text": [
            "02_in_range\n",
            "\n",
            "Enter a number to check: 10\n",
            "Enter the lower bound: 6\n",
            "Enter the upper bound: 14\n",
            "10 is between 6 and 14, inclusive.\n"
          ]
        }
      ]
    },
    {
      "cell_type": "code",
      "source": [
        "print(\"03_in_stock\")\n",
        "\n",
        "# Sample inventory for demonstration\n",
        "inventory = {\n",
        "    \"apple\": 10,\n",
        "    \"banana\": 5,\n",
        "    \"orange\": 0,\n",
        "    \"grape\": 8\n",
        "}\n",
        "\n",
        "def num_in_stock(fruit):\n",
        "    return inventory.get(fruit.lower(), 0)\n",
        "\n",
        "def main():\n",
        "    fruit = input(\"Enter a fruit: \").strip()\n",
        "    count = num_in_stock(fruit)\n",
        "\n",
        "    if count > 0:\n",
        "        print(f\"{count} {fruit}(s) in stock.\")\n",
        "    else:\n",
        "        print(\"This fruit is not in stock.\")\n",
        "\n",
        "if __name__ == '__main__':\n",
        "    main()\n"
      ],
      "metadata": {
        "colab": {
          "base_uri": "https://localhost:8080/"
        },
        "id": "doUH7G_qfhD6",
        "outputId": "7b7b32d0-79fd-4bae-81ed-3fc5920c2c5c"
      },
      "execution_count": 5,
      "outputs": [
        {
          "output_type": "stream",
          "name": "stdout",
          "text": [
            "03_in_stock\n",
            "Enter a fruit: apple\n",
            "10 apple(s) in stock.\n"
          ]
        }
      ]
    },
    {
      "cell_type": "code",
      "source": [
        "print(\"04_multiple_returns\")\n",
        "\n",
        "def get_user_data():\n",
        "    first_name = input(\"\\nEnter your first name: \")\n",
        "    last_name = input(\"Enter your last name: \")\n",
        "    email = input(\"Enter your email address: \")\n",
        "    return first_name, last_name, email\n",
        "\n",
        "def main():\n",
        "    first, last, email = get_user_data()\n",
        "    print(f\"\\nWelcome, {first} {last}!\")\n",
        "    print(f\"We've recorded your email as: {email}\")\n",
        "\n",
        "if __name__ == '__main__':\n",
        "    main()\n"
      ],
      "metadata": {
        "colab": {
          "base_uri": "https://localhost:8080/"
        },
        "id": "c1M1keDtfxTy",
        "outputId": "3b70c7a8-63cb-4b60-a743-4f3c08ac032e"
      },
      "execution_count": 6,
      "outputs": [
        {
          "output_type": "stream",
          "name": "stdout",
          "text": [
            "04_multiple_returns\n",
            "\n",
            "Enter your first name: jhon\n",
            "Enter your last name: eric\n",
            "Enter your email address: eric_jhon@ymail.com\n",
            "\n",
            "Welcome, jhon eric!\n",
            "We've recorded your email as: eric_jhon@ymail.com\n"
          ]
        }
      ]
    },
    {
      "cell_type": "code",
      "source": [
        "print(\"05_subtract_7\")\n",
        "\n",
        "def subtract_seven(num):\n",
        "    return num - 7\n",
        "\n",
        "def main():\n",
        "    try:\n",
        "        number = int(input(\"\\nEnter a number: \"))\n",
        "        result = subtract_seven(number)\n",
        "        print(f\"{number} minus 7 is {result}\")\n",
        "    except ValueError:\n",
        "        print(\"Please enter a valid integer.\")\n",
        "\n",
        "if __name__ == '__main__':\n",
        "    main()\n"
      ],
      "metadata": {
        "colab": {
          "base_uri": "https://localhost:8080/"
        },
        "id": "s7u5Q8ZqhaoJ",
        "outputId": "a8f2d615-67a7-4f16-c69d-b733dfa635b4"
      },
      "execution_count": 8,
      "outputs": [
        {
          "output_type": "stream",
          "name": "stdout",
          "text": [
            "05_subtract_7\n",
            "\n",
            "Enter a number: 17\n",
            "17 minus 7 is 10\n"
          ]
        }
      ]
    }
  ]
}
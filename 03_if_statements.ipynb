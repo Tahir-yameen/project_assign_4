{
  "nbformat": 4,
  "nbformat_minor": 0,
  "metadata": {
    "colab": {
      "provenance": [],
      "authorship_tag": "ABX9TyPhkQw6kBblj6S5NkLc6Kn5",
      "include_colab_link": true
    },
    "kernelspec": {
      "name": "python3",
      "display_name": "Python 3"
    },
    "language_info": {
      "name": "python"
    }
  },
  "cells": [
    {
      "cell_type": "markdown",
      "metadata": {
        "id": "view-in-github",
        "colab_type": "text"
      },
      "source": [
        "<a href=\"https://colab.research.google.com/github/Tahir-yameen/project_assign_4/blob/main/03_if_statements.ipynb\" target=\"_parent\"><img src=\"https://colab.research.google.com/assets/colab-badge.svg\" alt=\"Open In Colab\"/></a>"
      ]
    },
    {
      "cell_type": "code",
      "execution_count": 3,
      "metadata": {
        "colab": {
          "base_uri": "https://localhost:8080/"
        },
        "id": "akWpbvOuv7Ee",
        "outputId": "40fddc85-4cf0-4555-dfeb-c2705de27b22"
      },
      "outputs": [
        {
          "output_type": "stream",
          "name": "stdout",
          "text": [
            "01_print_events\n",
            "0\n",
            "2\n",
            "4\n",
            "6\n",
            "8\n",
            "10\n",
            "12\n",
            "14\n",
            "16\n",
            "18\n",
            "20\n",
            "22\n",
            "24\n",
            "26\n",
            "28\n",
            "30\n",
            "32\n",
            "34\n",
            "36\n",
            "38\n",
            "40\n",
            "42\n",
            "44\n",
            "46\n"
          ]
        }
      ],
      "source": [
        "print(\"01_print_events\")\n",
        "\n",
        "def even_nums():\n",
        "  for i in range(24):\n",
        "    even = i * 2\n",
        "    print(even)\n",
        "\n",
        "if __name__ == \"__main__\":\n",
        "  even_nums()"
      ]
    },
    {
      "cell_type": "code",
      "source": [
        "print(\"02_international_voting_age\")\n",
        "\n",
        "Peturksbouipo:int = 16\n",
        "Stanlau:int = 25\n",
        "Mayengua:int = 48\n",
        "age:int = int(input(\"\\nHow Old Are You..?\"))\n",
        "\n",
        "def main():\n",
        "\n",
        "  if age >= Peturksbouipo:\n",
        "    print(f\"\\nYour Age Is {age}. You Are Eligible To Vote In Peturksbouipo..!\")\n",
        "  else:\n",
        "    print(f\"Your age is {age}. You Are Not Eligible To Vote In Peturksbouipo..!\")\n",
        "\n",
        "\n",
        "  if age >= Stanlau:\n",
        "        print(f\"Your Age Is {age}. You Are Eligible To Vote In Stanlau!\")\n",
        "  else:\n",
        "        print(f\"Your age is {age}. You Are Not Eligible To Vote In Stanlau!\")\n",
        "\n",
        "\n",
        "  if age >= Mayengua:\n",
        "        print(f\"Your Age Is {age}. You Are Eligible To Vote In Mayengua!\")\n",
        "  else:\n",
        "        print(f\"Your age is {age}. You Are Not Eligible To Vote In Mayengua!\")\n",
        "\n",
        "if __name__ == \"__main__\":\n",
        "  main()"
      ],
      "metadata": {
        "colab": {
          "base_uri": "https://localhost:8080/"
        },
        "id": "XqcQ7npzyACM",
        "outputId": "b171519d-8f4a-40b2-ef29-c059f32a9e2a"
      },
      "execution_count": 6,
      "outputs": [
        {
          "output_type": "stream",
          "name": "stdout",
          "text": [
            "02_international_voting_age\n",
            "\n",
            "How Old Are You..?25\n",
            "\n",
            "Your Age Is 25. You Are Eligible To Vote In Peturksbouipo..!\n",
            "Your Age Is 25. You Are Eligible To Vote In Stanlau!\n",
            "Your age is 25. You Are Not Eligible To Vote In Mayengua!\n"
          ]
        }
      ]
    },
    {
      "cell_type": "code",
      "source": [
        "print(\"03_leap_year\")\n",
        "\n",
        "def leap_year():\n",
        "  year:int = int(input(\"\\nEnter As Year: \"))\n",
        "\n",
        "  if year % 4 == 0:\n",
        "    if year % 100 == 0:\n",
        "      if year % 400 == 0:\n",
        "        print(f\"\\n{year} Is A Leap Year.\")\n",
        "      else:\n",
        "        print(f\"{year} Is Not A Leap Year.\")\n",
        "    else:\n",
        "      print(f\"{year} Is Not A Leap Year.\")\n",
        "  else:\n",
        "    print(f\"{year} Is Not A Leap Year.\")\n",
        "\n",
        "if __name__ == \"__main__\":\n",
        "  leap_year()"
      ],
      "metadata": {
        "colab": {
          "base_uri": "https://localhost:8080/"
        },
        "id": "00S5tEYsz6Jx",
        "outputId": "71d7b6c5-a81d-4fe7-c7ac-628fcb95234d"
      },
      "execution_count": 7,
      "outputs": [
        {
          "output_type": "stream",
          "name": "stdout",
          "text": [
            "03_leap_year\n",
            "\n",
            "Enter As Year: 2038\n",
            "2038 Is Not A Leap Year.\n"
          ]
        }
      ]
    },
    {
      "cell_type": "code",
      "source": [
        "print(\"04_tall_enough_to_ride\")\n",
        "\n",
        "minimum_height:float = 5.5\n",
        "\n",
        "def main():\n",
        "  user:int = float(input(\"\\nHow Tall Are You..? \"))\n",
        "  if user >= minimum_height:\n",
        "    print(\"You Are Tall Enough To Ride..!\")\n",
        "  else:\n",
        "    print(\"You Are Not Tall Enough To Ride, May Be Next Year.\")\n",
        "\n",
        "if __name__ == \"__main__\":\n",
        "  main()"
      ],
      "metadata": {
        "colab": {
          "base_uri": "https://localhost:8080/"
        },
        "id": "RIHvfB8K1kVN",
        "outputId": "a7acb03c-179d-43ee-8402-675f5993c0a0"
      },
      "execution_count": 8,
      "outputs": [
        {
          "output_type": "stream",
          "name": "stdout",
          "text": [
            "04_tall_enough_to_ride\n",
            "\n",
            "How Tall Are You..? 6\n",
            "You Are Tall Enough To Ride..!\n"
          ]
        }
      ]
    },
    {
      "cell_type": "code",
      "source": [
        "import random\n",
        "\n",
        "def main():\n",
        "  for i in range(10):\n",
        "    num:list[int] =  random.randint(1,100)\n",
        "    print(num)\n",
        "\n",
        "if __name__ == \"__main__\":\n",
        "  main()"
      ],
      "metadata": {
        "colab": {
          "base_uri": "https://localhost:8080/"
        },
        "id": "AjiCk7En2-8T",
        "outputId": "ce9e86a0-69ea-4f09-ef10-3b7a936b8f0c"
      },
      "execution_count": 9,
      "outputs": [
        {
          "output_type": "stream",
          "name": "stdout",
          "text": [
            "65\n",
            "30\n",
            "99\n",
            "53\n",
            "13\n",
            "92\n",
            "28\n",
            "82\n",
            "95\n",
            "69\n"
          ]
        }
      ]
    }
  ]
}
{
  "nbformat": 4,
  "nbformat_minor": 0,
  "metadata": {
    "colab": {
      "provenance": [],
      "authorship_tag": "ABX9TyPGucE7bPZhgnEzvPUFpewq",
      "include_colab_link": true
    },
    "kernelspec": {
      "name": "python3",
      "display_name": "Python 3"
    },
    "language_info": {
      "name": "python"
    }
  },
  "cells": [
    {
      "cell_type": "markdown",
      "metadata": {
        "id": "view-in-github",
        "colab_type": "text"
      },
      "source": [
        "<a href=\"https://colab.research.google.com/github/Tahir-yameen/project_assign_4/blob/main/05_loops_control_flow.ipynb\" target=\"_parent\"><img src=\"https://colab.research.google.com/assets/colab-badge.svg\" alt=\"Open In Colab\"/></a>"
      ]
    },
    {
      "cell_type": "code",
      "execution_count": null,
      "metadata": {
        "colab": {
          "base_uri": "https://localhost:8080/"
        },
        "id": "yOrrlfGI0A-v",
        "outputId": "f7550ae3-5911-40c1-ce0e-f07ddc247f6e"
      },
      "outputs": [
        {
          "output_type": "stream",
          "name": "stdout",
          "text": [
            "00_guess_my_number.\n",
            "\n",
            "I Am Thinking a Number Between 1 to 100.\n",
            "\n",
            "Enter A Guess Number: 56\n",
            "\n",
            "Your Guess Number Is Too High.\n",
            "\n",
            " Enter A Guess Number: 98\n",
            "\n",
            "Your Guess Number Is Too High.\n",
            "\n",
            " Enter A Guess Number: 76\n",
            "\n",
            "Your Guess Number Is Too High.\n",
            "\n",
            " Enter A Guess Number: 70\n",
            "\n",
            "Your Guess Number Is Too High.\n",
            "\n",
            " Enter A Guess Number: 72\n",
            "\n",
            "Your Guess Number Is Too High.\n",
            "\n",
            " Enter A Guess Number: 71\n",
            "\n",
            "Your Guess Number Is Too High.\n",
            "\n",
            " Enter A Guess Number: 80\n",
            "\n",
            "Your Guess Number Is Too High.\n",
            "\n",
            " Enter A Guess Number: 49\n",
            "\n",
            "Your Guess Number Is Too High.\n",
            "\n",
            " Enter A Guess Number: 45\n",
            "\n",
            "Your Guess Number Is Too High.\n",
            "\n",
            " Enter A Guess Number: 76\n",
            "\n",
            "Your Guess Number Is Too High.\n",
            "\n",
            " Enter A Guess Number: 19\n",
            "\n",
            "Your Guess Number Is Too High.\n",
            "\n",
            " Enter A Guess Number: 5\n",
            "\n",
            "Your Guess Number Is Too Low.\n",
            "\n",
            " Enter A Guess Number: 15\n",
            "\n",
            "Your Guess Number Is Too High.\n",
            "\n",
            " Enter A Guess Number: 8\n",
            "\n",
            "Your Guess Number Is Too Low.\n",
            "\n",
            " Enter A Guess Number: 5\n",
            "\n",
            "Your Guess Number Is Too Low.\n",
            "\n",
            " Enter A Guess Number: 8\n",
            "\n",
            "Your Guess Number Is Too Low.\n",
            "\n",
            " Enter A Guess Number: 12\n",
            "\n",
            "Congratulation! The number was 12\n"
          ]
        }
      ],
      "source": [
        "import random\n",
        "\n",
        "print(\"00_guess_my_number.\")\n",
        "\n",
        "def main():\n",
        "  secret_number = random.randint(1,100)\n",
        "  print(\"\\nI Am Thinking a Number Between 1 to 100.\")\n",
        "\n",
        "  guess = int(input(\"\\nEnter A Guess Number: \"))\n",
        "\n",
        "  while guess != secret_number:\n",
        "    if guess < secret_number:\n",
        "      print(\"\\nYour Guess Number Is Too Low.\")\n",
        "    else:\n",
        "      print(\"\\nYour Guess Number Is Too High.\")\n",
        "    guess = int(input(\"\\n Enter A Guess Number: \"))\n",
        "\n",
        "  print(f\"\\nCongratulation! The number was {secret_number}\")\n",
        "\n",
        "\n",
        "if __name__ == \"__main__\":\n",
        "  main()"
      ]
    },
    {
      "cell_type": "code",
      "source": [
        "print(\"01_fibonacci\")\n",
        "\n",
        "max_value = 10000\n",
        "\n",
        "def main():\n",
        "  a,b = 0,1\n",
        "  print(a,b, end = \" \")\n",
        "\n",
        "  while True:\n",
        "    c = a+b\n",
        "    if c >= max_value:\n",
        "      break\n",
        "    print(c, end=\" \")\n",
        "    a,b = b,c\n",
        "\n",
        "if __name__ == \"__main__\":\n",
        "  main()"
      ],
      "metadata": {
        "id": "cOjIyTPp6MTi",
        "colab": {
          "base_uri": "https://localhost:8080/"
        },
        "outputId": "599ba082-2bbf-48af-c87b-795ae68bcf99"
      },
      "execution_count": null,
      "outputs": [
        {
          "output_type": "stream",
          "name": "stdout",
          "text": [
            "01_fibonacci\n",
            "0 1 1 2 3 5 8 13 21 34 55 89 144 233 377 610 987 1597 2584 4181 6765 "
          ]
        }
      ]
    },
    {
      "cell_type": "code",
      "source": [
        "print(\"02_print_events\")\n",
        "\n",
        "def main():\n",
        "  for i in range(20):\n",
        "    print(i*2)\n",
        "\n",
        "if __name__ == \"__main__\":\n",
        "  main()"
      ],
      "metadata": {
        "colab": {
          "base_uri": "https://localhost:8080/"
        },
        "id": "21x-8Uzo9SyA",
        "outputId": "f503e95a-f329-4c38-d644-4348a4698c21"
      },
      "execution_count": null,
      "outputs": [
        {
          "output_type": "stream",
          "name": "stdout",
          "text": [
            "02_print_events\n",
            "0\n",
            "2\n",
            "4\n",
            "6\n",
            "8\n",
            "10\n",
            "12\n",
            "14\n",
            "16\n",
            "18\n",
            "20\n",
            "22\n",
            "24\n",
            "26\n",
            "28\n",
            "30\n",
            "32\n",
            "34\n",
            "36\n",
            "38\n"
          ]
        }
      ]
    },
    {
      "cell_type": "code",
      "source": [
        "print(\"03_wholesome_machine\")\n",
        "\n",
        "correct_affermation = \"I Am Capable Of Doing Anything, I Put My Mind Too.\"\n",
        "\n",
        "def main():\n",
        "  print(\"Welcome To The Wholesome Machine\")\n",
        "  while True:\n",
        "    user_input = input(\"Please Type The Following Affermation:\" + correct_affermation)\n",
        "    if user_input == correct_affermation:\n",
        "      print(\"That\\'s right..! \")\n",
        "      break\n",
        "    else:\n",
        "      print(\"Hhmmm, That Was Not The Affermation, Please Try Again..!\")\n",
        "\n",
        "if __name__ == \"__main__\":\n",
        "  main()"
      ],
      "metadata": {
        "colab": {
          "base_uri": "https://localhost:8080/"
        },
        "id": "AW93mDNr-KJy",
        "outputId": "6e15f14c-2085-4bad-d455-4366fce64c55"
      },
      "execution_count": null,
      "outputs": [
        {
          "output_type": "stream",
          "name": "stdout",
          "text": [
            "03_wholesome_machine\n",
            "Welcome To The Wholesome Machine\n",
            "Please Type The Following Affermation:I Am Capable Of Doing Anything, I Put My Mind Too.oK\n",
            "Hhmmm, That Was Not The Affermation, Please Try Again..!\n",
            "Please Type The Following Affermation:I Am Capable Of Doing Anything, I Put My Mind Too.I Am Capable Of Doing Anything, I Put My Mind Too.\n",
            "That's right..! \n"
          ]
        }
      ]
    },
    {
      "cell_type": "code",
      "source": [
        "print(\"04_liftoff\")\n",
        "\n",
        "def main():\n",
        "  for i in range(10,0,-1):\n",
        "    print(i,end = \" \")\n",
        "  print(\"liftoff🚀\")\n",
        "\n",
        "if __name__ == \"__main__\":\n",
        "  main()"
      ],
      "metadata": {
        "colab": {
          "base_uri": "https://localhost:8080/"
        },
        "id": "0Gch1atAAPzW",
        "outputId": "61cff9c8-2448-4736-dd45-9ca3793887eb"
      },
      "execution_count": null,
      "outputs": [
        {
          "output_type": "stream",
          "name": "stdout",
          "text": [
            "04_liftoff\n",
            "10 9 8 7 6 5 4 3 2 1 liftoff🚀\n"
          ]
        }
      ]
    },
    {
      "cell_type": "code",
      "source": [
        "print(\"05_double_it\")\n",
        "\n",
        "def main():\n",
        "  user_value = int(input(\"Enter a number: \"))\n",
        "  while user_value < 100:\n",
        "    user_value = user_value * 2\n",
        "    print(user_value)\n",
        "\n",
        "if __name__ == \"__main__\":\n",
        "  main()"
      ],
      "metadata": {
        "colab": {
          "base_uri": "https://localhost:8080/"
        },
        "id": "1V9wse6oAynO",
        "outputId": "9e7ad449-f83c-4e03-942a-bc22a1a38431"
      },
      "execution_count": null,
      "outputs": [
        {
          "output_type": "stream",
          "name": "stdout",
          "text": [
            "05_double_it\n",
            "Enter a number: 6\n",
            "12\n",
            "24\n",
            "48\n",
            "96\n",
            "192\n"
          ]
        }
      ]
    }
  ]
}
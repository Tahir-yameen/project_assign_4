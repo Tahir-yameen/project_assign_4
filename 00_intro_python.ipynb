{
  "nbformat": 4,
  "nbformat_minor": 0,
  "metadata": {
    "colab": {
      "provenance": [],
      "authorship_tag": "ABX9TyOrlK9lAjcjZY7kK13lS67a",
      "include_colab_link": true
    },
    "kernelspec": {
      "name": "python3",
      "display_name": "Python 3"
    },
    "language_info": {
      "name": "python"
    }
  },
  "cells": [
    {
      "cell_type": "markdown",
      "metadata": {
        "id": "view-in-github",
        "colab_type": "text"
      },
      "source": [
        "<a href=\"https://colab.research.google.com/github/Tahir-yameen/project_assign_4/blob/main/00_intro_python.ipynb\" target=\"_parent\"><img src=\"https://colab.research.google.com/assets/colab-badge.svg\" alt=\"Open In Colab\"/></a>"
      ]
    },
    {
      "cell_type": "code",
      "execution_count": null,
      "metadata": {
        "id": "jzTA180r1tjY",
        "colab": {
          "base_uri": "https://localhost:8080/"
        },
        "outputId": "24fedf7d-7284-4f18-f9f7-85d8873288eb"
      },
      "outputs": [
        {
          "output_type": "stream",
          "name": "stdout",
          "text": [
            "01_add_two_numbers\n",
            "\n",
            "This Application Is For Adding Two Numbers\n",
            "Enter your 1st number 50\n",
            "Enter your 2nd number 45\n",
            "The Total sum of 50 and 45 is : 95\n"
          ]
        }
      ],
      "source": [
        "print(\"01_add_two_numbers\")\n",
        "\n",
        "def add():\n",
        "  print(\"\\nThis Application Is For Adding Two Numbers\")\n",
        "  first_num = int(input(\"Enter your 1st number \"))\n",
        "  second_num = int(input(\"Enter your 2nd number \"))\n",
        "  total = int(first_num + second_num)\n",
        "  print(f\"The Total sum of {first_num} and {second_num} is : {total}\")\n",
        "\n",
        "if __name__ == \"__main__\":\n",
        "  add()"
      ]
    },
    {
      "cell_type": "code",
      "source": [
        "print(\"02_agreement_bot\")\n",
        "\n",
        "def bot():\n",
        "  fvrt_animal = str(input(\"\\nWhich Animal Is Your Favourite Animal.? \"))\n",
        "  print(f\"My Favourite Animal Is Also {fvrt_animal}.!\")\n",
        "\n",
        "if __name__ == \"__main__\":\n",
        "  bot()"
      ],
      "metadata": {
        "colab": {
          "base_uri": "https://localhost:8080/"
        },
        "id": "n9VKJrNGtr7e",
        "outputId": "072e7447-bed8-4a4f-98ff-e5d5c3a45dca"
      },
      "execution_count": null,
      "outputs": [
        {
          "output_type": "stream",
          "name": "stdout",
          "text": [
            "02_agreement_bot\n",
            "\n",
            "Which Animal Is Your Favourite Animal.? Tiger\n",
            "My Favourite Animal Is Also Tiger.!\n"
          ]
        }
      ]
    },
    {
      "cell_type": "code",
      "source": [
        "print(\"03_fahrenheit_to_celsius\")\n",
        "\n",
        "def temp_cnvt():\n",
        "  print(\"\\nThis Program Is for Converting Fahrenheit to Celsius\")\n",
        "  fahrenheit = float(input(\"Enter Your Fahrenheit Temprature \"))\n",
        "  celsius = (fahrenheit - 32) * 5.0/9.0\n",
        "  print(f\"Converted Tempereture: {fahrenheit} F Degree is equal to {celsius} C degree\")\n",
        "\n",
        "if __name__ == \"__main__\":\n",
        "  temp_cnvt()"
      ],
      "metadata": {
        "colab": {
          "base_uri": "https://localhost:8080/"
        },
        "id": "2DNtcBURwFam",
        "outputId": "b3bd0552-b7fe-4a87-d717-4d015bab62bd"
      },
      "execution_count": null,
      "outputs": [
        {
          "output_type": "stream",
          "name": "stdout",
          "text": [
            "03_fahrenheit_to_celsius\n",
            "\n",
            "This Program Is for Converting Fahrenheit to Celsius\n",
            "Enter Your Fahrenheit Temprature 55\n",
            "Converted Tempereture: 55.0 F Degree is equal to 12.777777777777779 C degree\n"
          ]
        }
      ]
    },
    {
      "cell_type": "code",
      "source": [
        "print(\"04_how_old_are_they\")\n",
        "\n",
        "def ages_riddle():\n",
        "  print(\"\\nThis Code Is for Solving 'Ages Riddle'\")\n",
        "  anton:int = 21\n",
        "  beth:int = anton + 6\n",
        "  chen:int = beth + 20\n",
        "  drew:int = chen + anton\n",
        "  ethan:int = chen\n",
        "\n",
        "  print(\"Anton Is \" + str(anton))\n",
        "  print(\"Beth Is \" + str(beth))\n",
        "  print(\"Chen Is \" + str(chen))\n",
        "  print(\"Drew Is \" + str(drew))\n",
        "  print(\"Eathan Is \" + str(ethan))\n",
        "\n",
        "if __name__ == \"__main__\":\n",
        "  ages_riddle()"
      ],
      "metadata": {
        "colab": {
          "base_uri": "https://localhost:8080/"
        },
        "id": "2x6b2TmozZGG",
        "outputId": "0aad3ca0-8617-48b0-d0f2-53b6a43e581d"
      },
      "execution_count": null,
      "outputs": [
        {
          "output_type": "stream",
          "name": "stdout",
          "text": [
            "04_how_old_are_they\n",
            "\n",
            "This Code Is for Solving 'Ages Riddle'\n",
            "Anton Is 21\n",
            "Beth Is 27\n",
            "Chen Is 47\n",
            "Drew Is 68\n",
            "Eathan Is 47\n"
          ]
        }
      ]
    },
    {
      "cell_type": "code",
      "source": [
        "print(\"05_triangle_perimeter\")\n",
        "\n",
        "def tri_prmtr():\n",
        "  print(\"\\nThis Code Is For Total Perimeter Of Triangle\")\n",
        "  side1_length:float = float(input(f\"Enter The Length Of Side 1 \"))\n",
        "  side2_length:float = float(input(f\"Enter The Length Of Side 2 \"))\n",
        "  side3_length:float = float(input(f\"Enter The Length Of Side 3 \"))\n",
        "  total:float = float(side1_length + side2_length + side3_length)\n",
        "  print(f\"The perimeter of the triangle is {total}\")\n",
        "\n",
        "if __name__ == \"__main__\":\n",
        "  tri_prmtr()"
      ],
      "metadata": {
        "colab": {
          "base_uri": "https://localhost:8080/"
        },
        "id": "jM2VOfyr2qiI",
        "outputId": "8de2b021-9abf-436e-9a25-e66992101e0d"
      },
      "execution_count": null,
      "outputs": [
        {
          "output_type": "stream",
          "name": "stdout",
          "text": [
            "05_triangle_perimeter\n",
            "\n",
            "This Code Is For Total Perimeter Of Triangle\n",
            "Enter The Length Of Side 1 15\n",
            "Enter The Length Of Side 2 15\n",
            "Enter The Length Of Side 3 12\n",
            "The perimeter of the triangle is 42.0\n"
          ]
        }
      ]
    },
    {
      "cell_type": "code",
      "source": [
        "print(\"06_square_number\")\n",
        "\n",
        "def Sqr_value():\n",
        "  print(\"\\nThis Code Is For Square Value Of Given Input Number\")\n",
        "  number:int = int(input(\"Enter Any Number For Getting Its Square Value \"))\n",
        "  print(f\"The Square Value Of {number} Is {number ** 2}\")\n",
        "\n",
        "if __name__ == \"__main__\":\n",
        "  Sqr_value()"
      ],
      "metadata": {
        "colab": {
          "base_uri": "https://localhost:8080/"
        },
        "id": "-FOrBkhY5Y5f",
        "outputId": "c5dd5f58-7ee2-41cc-9cf4-0ae464023a27"
      },
      "execution_count": null,
      "outputs": [
        {
          "output_type": "stream",
          "name": "stdout",
          "text": [
            "06_square_number\n",
            "\n",
            "This Code Is For Square Value Of Given Input Number\n",
            "Enter Any Number For Getting Its Square Value 8\n",
            "The Square Value Of 8 Is 64\n"
          ]
        }
      ]
    }
  ]
}
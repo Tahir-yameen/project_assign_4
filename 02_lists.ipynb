{
  "nbformat": 4,
  "nbformat_minor": 0,
  "metadata": {
    "colab": {
      "provenance": [],
      "authorship_tag": "ABX9TyPTRYhcnJcui/m4zZ34PM4P",
      "include_colab_link": true
    },
    "kernelspec": {
      "name": "python3",
      "display_name": "Python 3"
    },
    "language_info": {
      "name": "python"
    }
  },
  "cells": [
    {
      "cell_type": "markdown",
      "metadata": {
        "id": "view-in-github",
        "colab_type": "text"
      },
      "source": [
        "<a href=\"https://colab.research.google.com/github/Tahir-yameen/project_assign_4/blob/main/02_lists.ipynb\" target=\"_parent\"><img src=\"https://colab.research.google.com/assets/colab-badge.svg\" alt=\"Open In Colab\"/></a>"
      ]
    },
    {
      "cell_type": "code",
      "execution_count": 1,
      "metadata": {
        "colab": {
          "base_uri": "https://localhost:8080/"
        },
        "id": "5hWdzviCbVZY",
        "outputId": "3c43cc98-051b-496c-d59f-fb8031237828"
      },
      "outputs": [
        {
          "output_type": "stream",
          "name": "stdout",
          "text": [
            "01_add_many_number\n",
            "57\n"
          ]
        }
      ],
      "source": [
        "print(\"01_add_many_number\")\n",
        "\n",
        "def add_nums(numbers)->int:\n",
        "  num:int = 0\n",
        "  for n in numbers:\n",
        "    num += n\n",
        "\n",
        "  return num\n",
        "\n",
        "def main():\n",
        "  numbers:list[int] = [7,8,9,10,11,12]\n",
        "  sum:int = add_nums(numbers)\n",
        "  print(sum)\n",
        "\n",
        "if __name__ == \"__main__\":\n",
        "    main()"
      ]
    },
    {
      "cell_type": "code",
      "source": [
        "print(\"02_double_list\")\n",
        "\n",
        "def main():\n",
        "  nums:list[int] =[5,6,7,8,9,10]\n",
        "  for i in range(len(nums)):\n",
        "    index = nums[i]\n",
        "    nums[i] = index * 2\n",
        "  print(nums)\n",
        "\n",
        "if __name__ == \"__main__\":\n",
        "  main()"
      ],
      "metadata": {
        "colab": {
          "base_uri": "https://localhost:8080/"
        },
        "id": "fftPzGcddZJT",
        "outputId": "bb732eaa-286c-42e1-98a6-64be8a65ce17"
      },
      "execution_count": 2,
      "outputs": [
        {
          "output_type": "stream",
          "name": "stdout",
          "text": [
            "02_double_list\n",
            "[10, 12, 14, 16, 18, 20]\n"
          ]
        }
      ]
    },
    {
      "cell_type": "code",
      "source": [
        "print(\"03_erase_canvas\")\n",
        "\n",
        "print(\"\\nPerformed in VScode\")"
      ],
      "metadata": {
        "colab": {
          "base_uri": "https://localhost:8080/"
        },
        "id": "17mwswU-fM8V",
        "outputId": "ecb28bc2-a0ae-4160-9af4-e6aae2a55939"
      },
      "execution_count": 4,
      "outputs": [
        {
          "output_type": "stream",
          "name": "stdout",
          "text": [
            "03_erase_canvas\n",
            "\n",
            "Performed in VScode\n"
          ]
        }
      ]
    },
    {
      "cell_type": "code",
      "source": [
        "print(\"04_flowing_with_data_structures\")\n",
        "\n",
        "def add_3_copies(one_list,data):\n",
        "  for i in range(3):\n",
        "    one_list.append(data)\n",
        "\n",
        "def main():\n",
        "  message = input(\"Enter A Message For Getting 3 Copies: \")\n",
        "  own_list = []\n",
        "  print(\"List Before: \",own_list)\n",
        "  add_3_copies(own_list,message)\n",
        "  print(\"List After: \",own_list)\n",
        "\n",
        "if __name__ == \"__main__\":\n",
        "  main()"
      ],
      "metadata": {
        "colab": {
          "base_uri": "https://localhost:8080/"
        },
        "id": "qGC1_VO7gnFa",
        "outputId": "5375f273-4c07-449c-ac97-17c4bcf04466"
      },
      "execution_count": 8,
      "outputs": [
        {
          "output_type": "stream",
          "name": "stdout",
          "text": [
            "04_flowing_with_data_structures\n",
            "Enter A Message For Getting 3 Copies: Working On Assignment 4.!\n",
            "List Before:  []\n",
            "List After:  ['Working On Assignment 4.!', 'Working On Assignment 4.!', 'Working On Assignment 4.!']\n"
          ]
        }
      ]
    },
    {
      "cell_type": "code",
      "source": [
        "print(\"05_get_first_element\")\n",
        "\n",
        "def get_first_element(list):\n",
        "  print(list[0])\n",
        "\n",
        "def get_list():\n",
        "  list = []\n",
        "  element:str = input(\"\\nEnter Any Element To Add In The List: \")\n",
        "  while element != \"\":\n",
        "    list.append(element)\n",
        "    element:str = input(\"Enter Any Element To Add In The List: \")\n",
        "  return list\n",
        "\n",
        "def main():\n",
        "  lst = get_list()\n",
        "  get_first_element(lst)\n",
        "\n",
        "if __name__ == \"__main__\":\n",
        "  main()\n"
      ],
      "metadata": {
        "colab": {
          "base_uri": "https://localhost:8080/"
        },
        "id": "ixaXT5eXjowz",
        "outputId": "329a51fa-fc71-46a6-ca06-5dfa2f46f373"
      },
      "execution_count": 12,
      "outputs": [
        {
          "output_type": "stream",
          "name": "stdout",
          "text": [
            "05_get_first_element\n",
            "\n",
            "Enter Any Element To Add In The List: abc\n",
            "Enter Any Element To Add In The List: def\n",
            "Enter Any Element To Add In The List: ghi\n",
            "Enter Any Element To Add In The List: jkl\n",
            "Enter Any Element To Add In The List: mno\n",
            "Enter Any Element To Add In The List: \n",
            "abc\n"
          ]
        }
      ]
    },
    {
      "cell_type": "code",
      "source": [
        "print(\"06_get_last_element\")\n",
        "\n",
        "def get_last_element(list):\n",
        "  print(list[-1])\n",
        "\n",
        "def main():\n",
        "  list = [6,7,8,9,10,11]\n",
        "  get_last_element(list)\n",
        "\n",
        "if __name__ == \"__main__\":\n",
        "  main()"
      ],
      "metadata": {
        "colab": {
          "base_uri": "https://localhost:8080/"
        },
        "id": "-U3WMAmenmcF",
        "outputId": "2108e4fc-81dd-4e07-b228-69f5f0a14a65"
      },
      "execution_count": 13,
      "outputs": [
        {
          "output_type": "stream",
          "name": "stdout",
          "text": [
            "06_get_last_element\n",
            "11\n"
          ]
        }
      ]
    },
    {
      "cell_type": "code",
      "source": [
        "print(\"07_get_list\")\n",
        "\n",
        "def main():\n",
        "  list = []\n",
        "  user_value = input(\"Enter A Value To Add In The List: \")\n",
        "  while user_value:\n",
        "    list.append(user_value)\n",
        "    user_value = input(\"Enter A Value To Add In The List: \")\n",
        "  print(\"The Printed List Is Here: \", list)\n",
        "\n",
        "if __name__ == \"__main__\":\n",
        "  main()"
      ],
      "metadata": {
        "colab": {
          "base_uri": "https://localhost:8080/"
        },
        "id": "SncQs6IPoLYM",
        "outputId": "2e112855-6aab-47d4-a456-4459580f66ce"
      },
      "execution_count": 14,
      "outputs": [
        {
          "output_type": "stream",
          "name": "stdout",
          "text": [
            "07_get_list\n",
            "Enter A Value To Add In The List: 123\n",
            "Enter A Value To Add In The List: 456\n",
            "Enter A Value To Add In The List: 789\n",
            "Enter A Value To Add In The List: 321\n",
            "Enter A Value To Add In The List: 654\n",
            "Enter A Value To Add In The List: \n",
            "The Printed List Is Here:  ['123', '456', '789', '321', '654']\n"
          ]
        }
      ]
    },
    {
      "cell_type": "code",
      "source": [
        "print(\"08_shorten\")\n",
        "\n",
        "max_length:int = 5\n",
        "def short_list(lst):\n",
        "  while len(lst) > max_length:\n",
        "    last_element = lst.pop()\n",
        "    print(last_element)\n",
        "\n",
        "def get_list():\n",
        "  lst = []\n",
        "  element = input(\"\\nEnter Any Element To Add In The List: \")\n",
        "  while element != \"\":\n",
        "    lst.append(element)\n",
        "    element = input(\"Enter Any Element To Add In The List: \")\n",
        "  return lst\n",
        "\n",
        "def main():\n",
        "  lst = get_list()\n",
        "  short_list(lst)\n",
        "\n",
        "if __name__ == \"__main__\":\n",
        "  main()"
      ],
      "metadata": {
        "colab": {
          "base_uri": "https://localhost:8080/"
        },
        "id": "p7vjZhWPphPv",
        "outputId": "91e2a1e2-a5b3-49c6-b3a7-8c2cd06a2314"
      },
      "execution_count": 16,
      "outputs": [
        {
          "output_type": "stream",
          "name": "stdout",
          "text": [
            "08_shorten\n",
            "\n",
            "Enter Any Element To Add In The List: xyz\n",
            "Enter Any Element To Add In The List: uvw\n",
            "Enter Any Element To Add In The List: rst\n",
            "Enter Any Element To Add In The List: opq\n",
            "Enter Any Element To Add In The List: lmn\n",
            "Enter Any Element To Add In The List: ijk\n",
            "Enter Any Element To Add In The List: fgh\n",
            "Enter Any Element To Add In The List: cde\n",
            "Enter Any Element To Add In The List: ab\n",
            "Enter Any Element To Add In The List: \n",
            "ab\n",
            "cde\n",
            "fgh\n",
            "ijk\n"
          ]
        }
      ]
    }
  ]
}
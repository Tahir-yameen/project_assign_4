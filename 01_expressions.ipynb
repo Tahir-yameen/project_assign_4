{
  "nbformat": 4,
  "nbformat_minor": 0,
  "metadata": {
    "colab": {
      "provenance": [],
      "authorship_tag": "ABX9TyNom9/GmX/zJf0Jegd8J3ar",
      "include_colab_link": true
    },
    "kernelspec": {
      "name": "python3",
      "display_name": "Python 3"
    },
    "language_info": {
      "name": "python"
    }
  },
  "cells": [
    {
      "cell_type": "markdown",
      "metadata": {
        "id": "view-in-github",
        "colab_type": "text"
      },
      "source": [
        "<a href=\"https://colab.research.google.com/github/Tahir-yameen/project_assign_4/blob/main/01_expressions.ipynb\" target=\"_parent\"><img src=\"https://colab.research.google.com/assets/colab-badge.svg\" alt=\"Open In Colab\"/></a>"
      ]
    },
    {
      "cell_type": "code",
      "execution_count": null,
      "metadata": {
        "id": "ru-4ERGijku_",
        "colab": {
          "base_uri": "https://localhost:8080/"
        },
        "outputId": "3992b0f2-306b-4602-825f-ef837630efff"
      },
      "outputs": [
        {
          "output_type": "stream",
          "name": "stdout",
          "text": [
            "01_dicesimulator\n",
            "\n",
            "The Value of first_dice in main() is: 15\n",
            "The Total Of Two Dice Is: 9\n",
            "The Total Of Two Dice Is: 10\n",
            "The Total Of Two Dice Is: 3\n",
            "first_dice in main() is: 15\n"
          ]
        }
      ],
      "source": [
        "import random\n",
        "print(\"01_dicesimulator\")\n",
        "\n",
        "def dice_imulator():\n",
        "  first_dice:int = random.randint(1,6)\n",
        "  second_dice:int = random.randint(1,6)\n",
        "  total:int = first_dice + second_dice\n",
        "  print(f\"The Total Of Two Dice Is: {total}\")\n",
        "\n",
        "def main():\n",
        "  first_dice:int = 15\n",
        "  print(f\"\\nThe Value of first_dice in main() is: \" + str(first_dice))\n",
        "  dice_imulator()\n",
        "  dice_imulator()\n",
        "  dice_imulator()\n",
        "  print(f\"first_dice in main() is: \" + str(first_dice))\n",
        "\n",
        "if __name__ == \"__main__\":\n",
        "  main()"
      ]
    },
    {
      "cell_type": "code",
      "source": [
        "print(\"02_e=mc2\")\n",
        "\n",
        "def emc():\n",
        "  c:float = 299792458\n",
        "  m:float = float(input(\"\\nEnter The Value Of Mass In Kilograms \"))\n",
        "  print(\"e = m * C^2\")\n",
        "  print(\"Mass = \" + str(m) + \" In Kilograms\")\n",
        "  print(\"C = \" + str(c) + \" Speed Of Light\")\n",
        "  print(\"e = \" + str(m * c**2) + \" Jules\")\n",
        "\n",
        "if __name__ == \"__main__\":\n",
        "  emc()"
      ],
      "metadata": {
        "colab": {
          "base_uri": "https://localhost:8080/"
        },
        "id": "8S6XxpgqzD3i",
        "outputId": "b088709d-431f-46e6-f5e7-3a23dc0bb4ed"
      },
      "execution_count": null,
      "outputs": [
        {
          "output_type": "stream",
          "name": "stdout",
          "text": [
            "02_e=mc2\n",
            "\n",
            "Enter The Value Of Mass In Kilograms 550\n",
            "e = m * C^2\n",
            "Mass = 550.0 In Kilograms\n",
            "C = 299792458 Speed Of Light\n",
            "e = 4.9431534830524965e+19 Jules\n"
          ]
        }
      ]
    },
    {
      "cell_type": "code",
      "source": [
        "print(\"03_feet_to_inches\")\n",
        "\n",
        "inch:int = 12\n",
        "\n",
        "def fticnvrtr():\n",
        "\n",
        "  feet:int = int(input(\"\\nEnter Feet to Convert it Into Inches: \"))\n",
        "  print(f\"There are {inch * feet} inches in {feet} feet.\")\n",
        "\n",
        "if __name__ == \"__main__\":\n",
        "  fticnvrtr()"
      ],
      "metadata": {
        "id": "eo0v6VbJ4cTc",
        "colab": {
          "base_uri": "https://localhost:8080/"
        },
        "outputId": "f14796bc-6782-4644-98d6-7bb40b73902b"
      },
      "execution_count": null,
      "outputs": [
        {
          "output_type": "stream",
          "name": "stdout",
          "text": [
            "03_feet_to_inches\n",
            "\n",
            "Enter Feet to Convert it Into Inches: 120\n",
            "There are 1440 inches in 120 feet.\n"
          ]
        }
      ]
    },
    {
      "cell_type": "code",
      "source": [
        "import math\n",
        "print(\"04_pythagorean_theorem\")\n",
        "\n",
        "def tri():\n",
        "  ab:float = float(input(\"\\nEnter The Length Of 'AB' Sides: \"))\n",
        "  ac:float = float(input(\"Enter The Length Of 'AC' Sides: \"))\n",
        "  bc:float = math.sqrt(ab**2 + ac**2)\n",
        "  print(f\"The Legth Of BC (The Hypothenuse) Is: \" + str(bc))\n",
        "\n",
        "if __name__==\"__main__\":\n",
        "  tri()"
      ],
      "metadata": {
        "colab": {
          "base_uri": "https://localhost:8080/"
        },
        "id": "fMlQ7YxqINZ7",
        "outputId": "25a49407-ec16-445b-85ea-469c7acef475"
      },
      "execution_count": null,
      "outputs": [
        {
          "output_type": "stream",
          "name": "stdout",
          "text": [
            "04_pythagorean_theorem\n",
            "\n",
            "Enter The Length Of 'AB' Sides: 6\n",
            "Enter The Length Of 'AC' Sides: 5.2\n",
            "The Legth Of BC (The Hypothenuse) Is: 7.939773296511683\n"
          ]
        }
      ]
    },
    {
      "cell_type": "code",
      "source": [
        "print(\"05_remainder_division\")\n",
        "\n",
        "def dandr():\n",
        "  num1:int = int(input(\"\\nEnter An Integer Value To Be Divided: \"))\n",
        "  num2:int = int(input(\"Enter An Integer Value To Divide By: \"))\n",
        "  quotient:int = num1 // num2\n",
        "  remainder:int = num1 % num2\n",
        "  print(f'The Result Of The Following Division Is: {quotient} With The Remainder Of {remainder}')\n",
        "\n",
        "if __name__ == \"__main__\":\n",
        "  dandr()\n"
      ],
      "metadata": {
        "colab": {
          "base_uri": "https://localhost:8080/"
        },
        "id": "5W5arnEGOild",
        "outputId": "f2dfdaec-8704-4d50-fda5-c44a868c3166"
      },
      "execution_count": null,
      "outputs": [
        {
          "output_type": "stream",
          "name": "stdout",
          "text": [
            "05_remainder_division\n",
            "\n",
            "Enter An Integer Value To Be Divided: 89\n",
            "Enter An Integer Value To Divide By: 12\n",
            "The Result Of The Following Division Is: 7 With The Remainder Of 5\n"
          ]
        }
      ]
    },
    {
      "cell_type": "code",
      "source": [
        "import random\n",
        "print(\"06_rolldice\")\n",
        "\n",
        "def diceroll():\n",
        "  onedice:int= random.randint(1,6)\n",
        "  twodice:int  = random.randint(1,6)\n",
        "  total:int = int(onedice + twodice)\n",
        "  print(\"First Dice: \" + str(onedice))\n",
        "  print(\"Second Dice: \" + str(twodice))\n",
        "  print(f\"Total Of Two Dices : {total}\")\n",
        "\n",
        "if __name__==\"__main__\":\n",
        "  diceroll()"
      ],
      "metadata": {
        "colab": {
          "base_uri": "https://localhost:8080/"
        },
        "id": "BkRqAQ3z0sah",
        "outputId": "60b30173-9e8b-4761-8fac-0e0024c7f155"
      },
      "execution_count": null,
      "outputs": [
        {
          "output_type": "stream",
          "name": "stdout",
          "text": [
            "06_rolldice\n",
            "First Dice: 5\n",
            "Second Dice: 6\n",
            "Total Of Two Dices : 11\n"
          ]
        }
      ]
    },
    {
      "cell_type": "code",
      "source": [
        "print(\"06_seconds_in_year\")\n",
        "\n",
        "total_days_in_one_year:int = 365\n",
        "total_hours_in_a_day:int = 24\n",
        "total_minutes_in_one_hour:int = 60\n",
        "total_seconds_in_one_minute:int = 60\n",
        "\n",
        "def total_seconds():\n",
        "  print(f\"\\nThere Are {total_days_in_one_year * total_hours_in_a_day * total_minutes_in_one_hour * total_seconds_in_one_minute} Seconds In A Year..!\")\n",
        "\n",
        "if __name__==\"__main__\":\n",
        "  total_seconds()"
      ],
      "metadata": {
        "colab": {
          "base_uri": "https://localhost:8080/"
        },
        "id": "ssTziS352oVD",
        "outputId": "a02f43aa-db6e-4619-937a-7d1aaf9791bc"
      },
      "execution_count": null,
      "outputs": [
        {
          "output_type": "stream",
          "name": "stdout",
          "text": [
            "06_seconds_in_year\n",
            "\n",
            "There Are 31536000 Seconds In A Year..!\n"
          ]
        }
      ]
    },
    {
      "cell_type": "code",
      "source": [
        "print(\"07_tiny_mad_lib\")\n",
        "\n",
        "def short_mad_lib():\n",
        "  noun:str = str(input(\"\\nEnter Any Noun: \"))\n",
        "  adjective:str = str(input(\"Enter Any Adjective: \"))\n",
        "  verb:str = str(input(\"Enter Any Verb: \"))\n",
        "  print(f\"\\nIs Your {noun} has {adjective} {verb}..?\")\n",
        "\n",
        "if __name__==\"__main__\":\n",
        "  short_mad_lib()"
      ],
      "metadata": {
        "colab": {
          "base_uri": "https://localhost:8080/"
        },
        "id": "7U7P_3e04mQw",
        "outputId": "2922f0d8-615c-4ef7-d2cc-12a23d5fc538"
      },
      "execution_count": null,
      "outputs": [
        {
          "output_type": "stream",
          "name": "stdout",
          "text": [
            "07_tiny_mad_lib\n",
            "\n",
            "Enter Any Noun: Dog\n",
            "Enter Any Adjective: Dangerous\n",
            "Enter Any Verb: Teeth\n",
            "\n",
            "Is Your Dog has Dangerous Teeth..?\n"
          ]
        }
      ]
    }
  ]
}